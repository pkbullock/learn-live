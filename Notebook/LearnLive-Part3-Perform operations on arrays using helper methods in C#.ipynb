{
 "cells": [
  {
   "cell_type": "markdown",
   "metadata": {},
   "source": [
    "# Perform operations on arrays using helper methods in C#\n",
    "\n",
    "Link: https://learn.microsoft.com/en-us/training/modules/csharp-arrays-operations/\n",
    "\n",
    "**Getting started with C# console app**\n",
    "\n",
    "```dotnetcli\n",
    "dotnet new console\n",
    "```\n",
    "\n",
    "## Exercise - Discover Sort() and Reverse()\n",
    "\n",
    "### Create an array of pallets, then sort them"
   ]
  },
  {
   "cell_type": "code",
   "execution_count": null,
   "metadata": {
    "dotnet_interactive": {
     "language": "csharp"
    },
    "polyglot_notebook": {
     "kernelName": "csharp"
    }
   },
   "outputs": [],
   "source": [
    "string[] pallets = { \"B14\", \"A11\", \"B12\", \"A13\" };\n",
    "\n",
    "Console.WriteLine(\"Sorted...\");\n",
    "Array.Sort(pallets);\n",
    "foreach (var pallet in pallets)\n",
    "{\n",
    "    Console.WriteLine($\"-- {pallet}\");\n",
    "}"
   ]
  },
  {
   "cell_type": "markdown",
   "metadata": {},
   "source": [
    "### Reverse the order of the pallets"
   ]
  },
  {
   "cell_type": "code",
   "execution_count": null,
   "metadata": {
    "dotnet_interactive": {
     "language": "csharp"
    },
    "polyglot_notebook": {
     "kernelName": "csharp"
    }
   },
   "outputs": [],
   "source": [
    "string[] pallets = { \"B14\", \"A11\", \"B12\", \"A13\" };\n",
    "\n",
    "Console.WriteLine(\"Sorted...\");\n",
    "Array.Sort(pallets);\n",
    "foreach (var pallet in pallets)\n",
    "{\n",
    "    Console.WriteLine($\"-- {pallet}\");\n",
    "}\n",
    "\n",
    "Console.WriteLine(\"\");\n",
    "Console.WriteLine(\"Reversed...\");\n",
    "Array.Reverse(pallets);\n",
    "foreach (var pallet in pallets)\n",
    "{\n",
    "    Console.WriteLine($\"-- {pallet}\");\n",
    "}"
   ]
  },
  {
   "cell_type": "markdown",
   "metadata": {},
   "source": [
    "## Exercise - Explore Clear() and Resize()\n",
    "Link: https://learn.microsoft.com/en-us/training/modules/csharp-arrays-operations/3-exercise-clear-resize\n",
    "\n",
    "### Use array methods to clear and resize an array"
   ]
  },
  {
   "cell_type": "code",
   "execution_count": null,
   "metadata": {
    "dotnet_interactive": {
     "language": "csharp"
    },
    "polyglot_notebook": {
     "kernelName": "csharp"
    }
   },
   "outputs": [],
   "source": [
    "string[] pallets = { \"B14\", \"A11\", \"B12\", \"A13\" };\n",
    "Console.WriteLine(\"\");\n",
    "\n",
    "Array.Clear(pallets, 0, 2);\n",
    "Console.WriteLine($\"Clearing 2 ... count: {pallets.Length}\");\n",
    "foreach (var pallet in pallets)\n",
    "{\n",
    "    Console.WriteLine($\"-- {pallet}\");\n",
    "}"
   ]
  },
  {
   "cell_type": "markdown",
   "metadata": {},
   "source": [
    "### Access the value of a cleared element"
   ]
  },
  {
   "cell_type": "code",
   "execution_count": null,
   "metadata": {
    "dotnet_interactive": {
     "language": "csharp"
    },
    "polyglot_notebook": {
     "kernelName": "csharp"
    }
   },
   "outputs": [],
   "source": [
    "Console.WriteLine($\"Before: {pallets[0]}\");\n",
    "Array.Clear(pallets, 0, 2);\n",
    "Console.WriteLine($\"After: {pallets[0]}\");"
   ]
  },
  {
   "cell_type": "code",
   "execution_count": null,
   "metadata": {
    "dotnet_interactive": {
     "language": "csharp"
    },
    "polyglot_notebook": {
     "kernelName": "csharp"
    }
   },
   "outputs": [],
   "source": [
    "string[] pallets = { \"B14\", \"A11\", \"B12\", \"A13\" };\n",
    "Console.WriteLine(\"\");\n",
    "\n",
    "Console.WriteLine($\"Before: {pallets[0]}\");\n",
    "Array.Clear(pallets, 0, 2);\n",
    "Console.WriteLine($\"After: {pallets[0]}\");\n",
    "\n",
    "Console.WriteLine($\"Clearing 2 ... count: {pallets.Length}\");\n",
    "foreach (var pallet in pallets)\n",
    "{\n",
    "    Console.WriteLine($\"-- {pallet}\");\n",
    "}"
   ]
  },
  {
   "cell_type": "markdown",
   "metadata": {},
   "source": [
    "### Call a string helper method on a cleared element"
   ]
  },
  {
   "cell_type": "code",
   "execution_count": null,
   "metadata": {
    "dotnet_interactive": {
     "language": "csharp"
    },
    "polyglot_notebook": {
     "kernelName": "csharp"
    }
   },
   "outputs": [],
   "source": [
    "Console.WriteLine($\"Before: {pallets[0].ToLower()}\");\n",
    "Array.Clear(pallets, 0, 2);\n",
    "Console.WriteLine($\"After: {pallets[0].ToLower()}\");"
   ]
  },
  {
   "cell_type": "code",
   "execution_count": null,
   "metadata": {
    "dotnet_interactive": {
     "language": "csharp"
    },
    "polyglot_notebook": {
     "kernelName": "csharp"
    }
   },
   "outputs": [],
   "source": [
    "string[] pallets = { \"B14\", \"A11\", \"B12\", \"A13\" };\n",
    "Console.WriteLine(\"\");\n",
    "\n",
    "Console.WriteLine($\"Before: {pallets[0].ToLower()}\");\n",
    "Array.Clear(pallets, 0, 2);\n",
    "Console.WriteLine($\"After: {pallets[0].ToLower()}\");\n",
    "\n",
    "Console.WriteLine($\"Clearing 2 ... count: {pallets.Length}\");\n",
    "foreach (var pallet in pallets)\n",
    "{\n",
    "    Console.WriteLine($\"-- {pallet}\");\n",
    "}"
   ]
  },
  {
   "cell_type": "code",
   "execution_count": null,
   "metadata": {
    "dotnet_interactive": {
     "language": "csharp"
    },
    "polyglot_notebook": {
     "kernelName": "csharp"
    }
   },
   "outputs": [],
   "source": [
    "// Answer\n",
    "string[] pallets = { \"B14\", \"A11\", \"B12\", \"A13\" };\n",
    "Console.WriteLine(\"\");\n",
    "\n",
    "Console.WriteLine($\"Before: {pallets[0].ToLower()}\");\n",
    "Array.Clear(pallets, 0, 2);\n",
    "\n",
    "if (pallets[0] != null)\n",
    "    Console.WriteLine($\"After: {pallets[0].ToLower()}\");\n",
    "\n",
    "Console.WriteLine($\"Clearing 2 ... count: {pallets.Length}\");\n",
    "foreach (var pallet in pallets)\n",
    "{\n",
    "    Console.WriteLine($\"-- {pallet}\");\n",
    "}"
   ]
  },
  {
   "cell_type": "markdown",
   "metadata": {},
   "source": [
    "### Resize the array to add more elements"
   ]
  },
  {
   "cell_type": "code",
   "execution_count": null,
   "metadata": {
    "dotnet_interactive": {
     "language": "csharp"
    },
    "polyglot_notebook": {
     "kernelName": "csharp"
    }
   },
   "outputs": [],
   "source": [
    "string[] pallets = { \"B14\", \"A11\", \"B12\", \"A13\" };\n",
    "Console.WriteLine(\"\");\n",
    "\n",
    "Array.Clear(pallets, 0, 2);\n",
    "Console.WriteLine($\"Clearing 2 ... count: {pallets.Length}\");\n",
    "foreach (var pallet in pallets)\n",
    "{\n",
    "    Console.WriteLine($\"-- {pallet}\");\n",
    "}\n",
    "\n",
    "Console.WriteLine(\"\");\n",
    "Array.Resize(ref pallets, 6);\n",
    "Console.WriteLine($\"Resizing 6 ... count: {pallets.Length}\");\n",
    "\n",
    "pallets[4] = \"C01\";\n",
    "pallets[5] = \"C02\";\n",
    "\n",
    "foreach (var pallet in pallets)\n",
    "{\n",
    "    Console.WriteLine($\"-- {pallet}\");\n",
    "}"
   ]
  },
  {
   "cell_type": "markdown",
   "metadata": {},
   "source": [
    "# <Title>\n",
    "\n",
    "Found at this location: https://learn.microsoft.com/en-us/training/modules/csharp-convert-cast/\n",
    "\n",
    "Getting started with C# console app\n",
    "\n",
    "```dotnetcli\n",
    "dotnet new console\n",
    "```\n",
    "\n"
   ]
  },
  {
   "cell_type": "markdown",
   "metadata": {},
   "source": [
    "### Resize the array to remove elements"
   ]
  },
  {
   "cell_type": "code",
   "execution_count": null,
   "metadata": {
    "dotnet_interactive": {
     "language": "csharp"
    },
    "polyglot_notebook": {
     "kernelName": "csharp"
    }
   },
   "outputs": [],
   "source": [
    "string[] pallets = { \"B14\", \"A11\", \"B12\", \"A13\" };\n",
    "Console.WriteLine(\"\");\n",
    "\n",
    "Array.Clear(pallets, 0, 2);\n",
    "Console.WriteLine($\"Clearing 2 ... count: {pallets.Length}\");\n",
    "foreach (var pallet in pallets)\n",
    "{\n",
    "    Console.WriteLine($\"-- {pallet}\");\n",
    "}\n",
    "\n",
    "Console.WriteLine(\"\");\n",
    "Array.Resize(ref pallets, 6);\n",
    "Console.WriteLine($\"Resizing 6 ... count: {pallets.Length}\");\n",
    "\n",
    "pallets[4] = \"C01\";\n",
    "pallets[5] = \"C02\";\n",
    "\n",
    "foreach (var pallet in pallets)\n",
    "{\n",
    "    Console.WriteLine($\"-- {pallet}\");\n",
    "}\n",
    "\n",
    "Console.WriteLine(\"\");\n",
    "Array.Resize(ref pallets, 3);\n",
    "Console.WriteLine($\"Resizing 3 ... count: {pallets.Length}\");\n",
    "\n",
    "foreach (var pallet in pallets)\n",
    "{\n",
    "    Console.WriteLine($\"-- {pallet}\");\n",
    "}"
   ]
  },
  {
   "cell_type": "markdown",
   "metadata": {},
   "source": [
    "## Exercise - Discover Split() and Join()\n",
    "Link: https://learn.microsoft.com/en-us/training/modules/csharp-arrays-operations/4-exercise-split-join\n",
    "\n",
    "\n",
    "## String data type's Array methods\n",
    "### Use the ToCharArray() to reverse a string"
   ]
  },
  {
   "cell_type": "code",
   "execution_count": null,
   "metadata": {
    "dotnet_interactive": {
     "language": "csharp"
    },
    "polyglot_notebook": {
     "kernelName": "csharp"
    }
   },
   "outputs": [],
   "source": [
    "string value = \"abc123\";\n",
    "char[] valueArray = value.ToCharArray();"
   ]
  },
  {
   "cell_type": "markdown",
   "metadata": {},
   "source": [
    "### Reverse, then combine the char array into a new string"
   ]
  },
  {
   "cell_type": "code",
   "execution_count": null,
   "metadata": {
    "dotnet_interactive": {
     "language": "csharp"
    },
    "polyglot_notebook": {
     "kernelName": "csharp"
    }
   },
   "outputs": [],
   "source": [
    "string value = \"abc123\";\n",
    "char[] valueArray = value.ToCharArray();\n",
    "Array.Reverse(valueArray);\n",
    "string result = new string(valueArray);\n",
    "Console.WriteLine(result);"
   ]
  },
  {
   "cell_type": "markdown",
   "metadata": {},
   "source": [
    "### Combine all of the chars into a new comma-separated-value string using Join()"
   ]
  },
  {
   "cell_type": "code",
   "execution_count": null,
   "metadata": {
    "dotnet_interactive": {
     "language": "csharp"
    },
    "polyglot_notebook": {
     "kernelName": "csharp"
    }
   },
   "outputs": [],
   "source": [
    "string value = \"abc123\";\n",
    "char[] valueArray = value.ToCharArray();\n",
    "Array.Reverse(valueArray);\n",
    "// string result = new string(valueArray);\n",
    "string result = String.Join(\",\", valueArray);\n",
    "Console.WriteLine(result);"
   ]
  },
  {
   "cell_type": "markdown",
   "metadata": {},
   "source": [
    "### Split() the comma-separated-value string into an array of strings"
   ]
  },
  {
   "cell_type": "code",
   "execution_count": null,
   "metadata": {
    "dotnet_interactive": {
     "language": "csharp"
    },
    "polyglot_notebook": {
     "kernelName": "csharp"
    }
   },
   "outputs": [],
   "source": [
    "string[] items = result.Split(',');\n",
    "foreach (string item in items)\n",
    "{\n",
    "    Console.WriteLine(item);\n",
    "}"
   ]
  },
  {
   "cell_type": "code",
   "execution_count": null,
   "metadata": {
    "dotnet_interactive": {
     "language": "csharp"
    },
    "polyglot_notebook": {
     "kernelName": "csharp"
    }
   },
   "outputs": [],
   "source": [
    "string value = \"abc123\";\n",
    "char[] valueArray = value.ToCharArray();\n",
    "Array.Reverse(valueArray);\n",
    "// string result = new string(valueArray);\n",
    "string result = String.Join(\",\", valueArray);\n",
    "Console.WriteLine(result);\n",
    "\n",
    "string[] items = result.Split(',');\n",
    "foreach (string item in items)\n",
    "{\n",
    "    Console.WriteLine(item);\n",
    "}"
   ]
  },
  {
   "cell_type": "markdown",
   "metadata": {},
   "source": [
    "## Exercise - Complete a challenge to reverse words in a sentence\n",
    "\n",
    "Expected Output: \"ehT kciuq nworb xof spmuj revo eht yzal god\""
   ]
  },
  {
   "cell_type": "code",
   "execution_count": null,
   "metadata": {
    "dotnet_interactive": {
     "language": "csharp"
    },
    "polyglot_notebook": {
     "kernelName": "csharp"
    }
   },
   "outputs": [],
   "source": [
    "string pangram = \"The quick brown fox jumps over the lazy dog\";"
   ]
  },
  {
   "cell_type": "code",
   "execution_count": null,
   "metadata": {
    "dotnet_interactive": {
     "language": "csharp"
    },
    "polyglot_notebook": {
     "kernelName": "csharp"
    }
   },
   "outputs": [],
   "source": [
    "// Answer \n",
    "string pangram = \"The quick brown fox jumps over the lazy dog\";\n",
    "\n",
    "// Step 1\n",
    "string[] message = pangram.Split(' ');\n",
    "\n",
    "//Step 2\n",
    "string[] newMessage = new string[message.Length];\n",
    "\n",
    "// Step 3\n",
    "for (int i = 0; i < message.Length; i++)\n",
    "{\n",
    "    char[] letters = message[i].ToCharArray();\n",
    "    Array.Reverse(letters);\n",
    "    newMessage[i] = new string(letters);\n",
    "}\n",
    "\n",
    "//Step 4\n",
    "string result = String.Join(\" \", newMessage);\n",
    "Console.WriteLine(result);"
   ]
  },
  {
   "cell_type": "markdown",
   "metadata": {},
   "source": [
    "## Exercise - Complete a challenge to parse a string of orders, sort the orders and tag possible errors\n",
    "Link: https://learn.microsoft.com/en-us/training/modules/csharp-arrays-operations/7-challenge-2\n",
    "\n",
    "Expected Output: \n",
    "A345\n",
    "B123\n",
    "B177\n",
    "B179\n",
    "C15     - Error\n",
    "C234\n",
    "C235\n",
    "G3003   - Error"
   ]
  },
  {
   "cell_type": "code",
   "execution_count": null,
   "metadata": {
    "dotnet_interactive": {
     "language": "csharp"
    },
    "polyglot_notebook": {
     "kernelName": "csharp"
    }
   },
   "outputs": [],
   "source": [
    "string orderStream = \"B123,C234,A345,C15,B177,G3003,C235,B179\";"
   ]
  },
  {
   "cell_type": "code",
   "execution_count": null,
   "metadata": {
    "dotnet_interactive": {
     "language": "csharp"
    },
    "polyglot_notebook": {
     "kernelName": "csharp"
    }
   },
   "outputs": [],
   "source": [
    "// Answer\n",
    "string orderStream = \"B123,C234,A345,C15,B177,G3003,C235,B179\";\n",
    "string[] items = orderStream.Split(',');\n",
    "Array.Sort(items);\n",
    "\n",
    "foreach (var item in items)\n",
    "{\n",
    "    if (item.Length == 4)\n",
    "    {\n",
    "        Console.WriteLine(item);\n",
    "    }\n",
    "    else\n",
    "    {\n",
    "        Console.WriteLine(item + \"\\t- Error\");\n",
    "    }\n",
    "}"
   ]
  }
 ],
 "metadata": {
  "kernelspec": {
   "display_name": ".NET (C#)",
   "language": "C#",
   "name": ".net-csharp"
  },
  "language_info": {
   "name": "polyglot-notebook"
  },
  "polyglot_notebook": {
   "kernelInfo": {
    "defaultKernelName": "csharp",
    "items": [
     {
      "aliases": [],
      "languageName": "csharp",
      "name": "csharp"
     }
    ]
   }
  }
 },
 "nbformat": 4,
 "nbformat_minor": 2
}
