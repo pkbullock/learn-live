{
 "cells": [
  {
   "cell_type": "markdown",
   "metadata": {},
   "source": [
    "# Challenge project - Work with variable data in C#\n",
    "\n",
    "Link: https://learn.microsoft.com/en-us/training/modules/challenge-project-work-variable-data-c-sharp/\n",
    "\n",
    "**Getting started with C# console app**\n",
    "\n",
    "```dotnetcli\n",
    "dotnet new console\n",
    "```\n",
    "\n",
    "Challange Code: In a browser, navigate to [Challange-project-Work-with-variable-data-in-CSharp.zip](https://github.com/MicrosoftLearning/Challenge-project-Work-with-variable-data-in-CSharp/archive/refs/heads/main.zip) to download the zip file.\n",
    "\n",
    "Follow the exercises in the learning module:\n",
    "\n",
    "- [Add multiple term search support](https://learn.microsoft.com/en-us/training/modules/challenge-project-work-variable-data-c-sharp/3-exercise-search-multiple-terms)\n",
    "- [Exercise - Add improved search animation](https://learn.microsoft.com/en-us/training/modules/challenge-project-work-variable-data-c-sharp/4-exercise-add-improved-search-animation)"
   ]
  }
 ],
 "metadata": {
  "kernelspec": {
   "display_name": ".NET (C#)",
   "language": "C#",
   "name": ".net-csharp"
  },
  "language_info": {
   "name": "polyglot-notebook"
  },
  "polyglot_notebook": {
   "kernelInfo": {
    "defaultKernelName": "csharp",
    "items": [
     {
      "aliases": [],
      "languageName": "csharp",
      "name": "csharp"
     }
    ]
   }
  }
 },
 "nbformat": 4,
 "nbformat_minor": 2
}
