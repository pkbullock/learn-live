{
 "cells": [
  {
   "cell_type": "markdown",
   "metadata": {},
   "source": [
    "# Choose the correct data type in your C# code\n",
    "\n",
    "Found at this location: https://learn.microsoft.com/en-us/training/modules/csharp-choose-data-type/ \n",
    "\n",
    "**Getting started with C# console app**\n",
    "```dotnetcli\n",
    "dotnet new console\n",
    "```\n",
    "\n",
    "## Use the MinValue and MaxValue properties for each signed integral type"
   ]
  },
  {
   "cell_type": "code",
   "execution_count": null,
   "metadata": {
    "dotnet_interactive": {
     "language": "csharp"
    },
    "polyglot_notebook": {
     "kernelName": "csharp"
    }
   },
   "outputs": [],
   "source": [
    "Console.WriteLine(\"Signed integral types:\");\n",
    "\n",
    "Console.WriteLine($\"sbyte  : {sbyte.MinValue} to {sbyte.MaxValue}\");\n",
    "Console.WriteLine($\"short  : {short.MinValue} to {short.MaxValue}\");\n",
    "Console.WriteLine($\"int    : {int.MinValue} to {int.MaxValue}\");\n",
    "Console.WriteLine($\"long   : {long.MinValue} to {long.MaxValue}\");"
   ]
  },
  {
   "cell_type": "markdown",
   "metadata": {},
   "source": [
    "## Unsigned integral types"
   ]
  },
  {
   "cell_type": "code",
   "execution_count": null,
   "metadata": {
    "dotnet_interactive": {
     "language": "csharp"
    },
    "polyglot_notebook": {
     "kernelName": "csharp"
    }
   },
   "outputs": [],
   "source": [
    "Console.WriteLine(\"\");\n",
    "Console.WriteLine(\"Unsigned integral types:\");\n",
    "\n",
    "Console.WriteLine($\"byte   : {byte.MinValue} to {byte.MaxValue}\");\n",
    "Console.WriteLine($\"ushort : {ushort.MinValue} to {ushort.MaxValue}\");\n",
    "Console.WriteLine($\"uint   : {uint.MinValue} to {uint.MaxValue}\");\n",
    "Console.WriteLine($\"ulong  : {ulong.MinValue} to {ulong.MaxValue}\");"
   ]
  },
  {
   "cell_type": "markdown",
   "metadata": {},
   "source": [
    "## Use the MinValue and MaxValue properties for each signed float type"
   ]
  },
  {
   "cell_type": "code",
   "execution_count": null,
   "metadata": {
    "dotnet_interactive": {
     "language": "csharp"
    },
    "polyglot_notebook": {
     "kernelName": "csharp"
    }
   },
   "outputs": [],
   "source": [
    "Console.WriteLine(\"\");\n",
    "Console.WriteLine(\"Floating point types:\");\n",
    "Console.WriteLine($\"float  : {float.MinValue} to {float.MaxValue} (with ~6-9 digits of precision)\");\n",
    "Console.WriteLine($\"double : {double.MinValue} to {double.MaxValue} (with ~15-17 digits of precision)\");\n",
    "Console.WriteLine($\"decimal: {decimal.MinValue} to {decimal.MaxValue} (with 28-29 digits of precision)\");"
   ]
  },
  {
   "cell_type": "markdown",
   "metadata": {},
   "source": [
    "## Define a reference type variable"
   ]
  },
  {
   "cell_type": "code",
   "execution_count": 4,
   "metadata": {
    "dotnet_interactive": {
     "language": "csharp"
    },
    "polyglot_notebook": {
     "kernelName": "csharp"
    }
   },
   "outputs": [],
   "source": [
    "int[] data;"
   ]
  },
  {
   "cell_type": "code",
   "execution_count": 5,
   "metadata": {
    "dotnet_interactive": {
     "language": "csharp"
    },
    "polyglot_notebook": {
     "kernelName": "csharp"
    }
   },
   "outputs": [],
   "source": [
    "int[] data;\n",
    "data = new int[3];"
   ]
  },
  {
   "cell_type": "code",
   "execution_count": 6,
   "metadata": {
    "dotnet_interactive": {
     "language": "csharp"
    },
    "polyglot_notebook": {
     "kernelName": "csharp"
    }
   },
   "outputs": [],
   "source": [
    "int[] data = new int[3];"
   ]
  },
  {
   "cell_type": "markdown",
   "metadata": {},
   "source": [
    "## What's different about the C# string data type?"
   ]
  },
  {
   "cell_type": "code",
   "execution_count": null,
   "metadata": {
    "dotnet_interactive": {
     "language": "csharp"
    },
    "polyglot_notebook": {
     "kernelName": "csharp"
    }
   },
   "outputs": [],
   "source": [
    "string shortenedString = \"Hello World!\";\n",
    "Console.WriteLine(shortenedString);"
   ]
  }
 ],
 "metadata": {
  "kernelspec": {
   "display_name": ".NET (C#)",
   "language": "C#",
   "name": ".net-csharp"
  },
  "language_info": {
   "name": "polyglot-notebook"
  },
  "polyglot_notebook": {
   "kernelInfo": {
    "defaultKernelName": "csharp",
    "items": [
     {
      "aliases": [],
      "languageName": "csharp",
      "name": "csharp"
     }
    ]
   }
  }
 },
 "nbformat": 4,
 "nbformat_minor": 2
}
