{
 "cells": [
  {
   "cell_type": "markdown",
   "metadata": {},
   "source": [
    "# Format alphanumeric data for presentation in C#\n",
    "\n",
    "Link: https://learn.microsoft.com/en-us/training/modules/csharp-format-strings/\n",
    "\n",
    "**Getting started with C# console app**\n",
    "\n",
    "```dotnetcli\n",
    "dotnet new console\n",
    "```\n",
    "\n",
    "## Exercise - Investigate string formatting basics\n",
    "\n",
    "### What is Composite Formatting?"
   ]
  },
  {
   "cell_type": "code",
   "execution_count": null,
   "metadata": {
    "dotnet_interactive": {
     "language": "csharp"
    },
    "polyglot_notebook": {
     "kernelName": "csharp"
    }
   },
   "outputs": [],
   "source": [
    "string first = \"Hello\";\n",
    "string second = \"World\";\n",
    "string result = string.Format(\"{0} {1}!\", first, second);\n",
    "Console.WriteLine(result);"
   ]
  },
  {
   "cell_type": "code",
   "execution_count": null,
   "metadata": {
    "dotnet_interactive": {
     "language": "csharp"
    },
    "polyglot_notebook": {
     "kernelName": "csharp"
    }
   },
   "outputs": [],
   "source": [
    "string first = \"Hello\";\n",
    "string second = \"World\";\n",
    "Console.WriteLine(\"{1} {0}!\", first, second);\n",
    "Console.WriteLine(\"{0} {0} {0}!\", first, second);"
   ]
  },
  {
   "cell_type": "markdown",
   "metadata": {},
   "source": [
    "### What is string interpolation?"
   ]
  },
  {
   "cell_type": "code",
   "execution_count": null,
   "metadata": {
    "dotnet_interactive": {
     "language": "csharp"
    },
    "polyglot_notebook": {
     "kernelName": "csharp"
    }
   },
   "outputs": [],
   "source": [
    "string first = \"Hello\";\n",
    "string second = \"World\";\n",
    "Console.WriteLine($\"{first} {second}!\");\n",
    "Console.WriteLine($\"{second} {first}!\");\n",
    "Console.WriteLine($\"{first} {first} {first}!\");"
   ]
  },
  {
   "cell_type": "markdown",
   "metadata": {},
   "source": [
    "### Formatting currency"
   ]
  },
  {
   "cell_type": "code",
   "execution_count": null,
   "metadata": {
    "dotnet_interactive": {
     "language": "csharp"
    },
    "polyglot_notebook": {
     "kernelName": "csharp"
    }
   },
   "outputs": [],
   "source": [
    "decimal price = 123.45m;\n",
    "int discount = 50;\n",
    "Console.WriteLine($\"Price: {price:C} (Save {discount:C})\");"
   ]
  },
  {
   "cell_type": "markdown",
   "metadata": {},
   "source": [
    "### How the user's country/region and language affect string formatting\n",
    "\n",
    "**Formatting Numbers**"
   ]
  },
  {
   "cell_type": "code",
   "execution_count": 1,
   "metadata": {
    "dotnet_interactive": {
     "language": "csharp"
    },
    "polyglot_notebook": {
     "kernelName": "csharp"
    }
   },
   "outputs": [
    {
     "name": "stdout",
     "output_type": "stream",
     "text": [
      "Measurement: 123,456.789 units\r\n"
     ]
    }
   ],
   "source": [
    "decimal measurement = 123456.78912m;\n",
    "Console.WriteLine($\"Measurement: {measurement:N} units\");"
   ]
  },
  {
   "cell_type": "code",
   "execution_count": null,
   "metadata": {
    "dotnet_interactive": {
     "language": "csharp"
    },
    "polyglot_notebook": {
     "kernelName": "csharp"
    }
   },
   "outputs": [],
   "source": [
    "decimal measurement = 123456.78912m;\n",
    "Console.WriteLine($\"Measurement: {measurement:N4} units\");"
   ]
  },
  {
   "cell_type": "markdown",
   "metadata": {},
   "source": [
    "***Formatting percentages***"
   ]
  },
  {
   "cell_type": "code",
   "execution_count": 3,
   "metadata": {
    "dotnet_interactive": {
     "language": "csharp"
    },
    "polyglot_notebook": {
     "kernelName": "csharp"
    }
   },
   "outputs": [
    {
     "name": "stdout",
     "output_type": "stream",
     "text": [
      "Tax rate: 36.79%\r\n"
     ]
    }
   ],
   "source": [
    "decimal tax = .36785m;\n",
    "Console.WriteLine($\"Tax rate: {tax:P2}\");"
   ]
  },
  {
   "cell_type": "markdown",
   "metadata": {},
   "source": [
    "**Combining formatting approaches**"
   ]
  },
  {
   "cell_type": "code",
   "execution_count": 4,
   "metadata": {
    "dotnet_interactive": {
     "language": "csharp"
    },
    "polyglot_notebook": {
     "kernelName": "csharp"
    }
   },
   "outputs": [
    {
     "name": "stdout",
     "output_type": "stream",
     "text": [
      "You saved ¤7.56 off the regular ¤67.55 price. \r\n"
     ]
    }
   ],
   "source": [
    "decimal price = 67.55m;\n",
    "decimal salePrice = 59.99m;\n",
    "\n",
    "string yourDiscount = String.Format(\"You saved {0:C2} off the regular {1:C2} price. \", (price - salePrice), price);\n",
    "\n",
    "Console.WriteLine(yourDiscount);"
   ]
  },
  {
   "cell_type": "code",
   "execution_count": 5,
   "metadata": {
    "dotnet_interactive": {
     "language": "csharp"
    },
    "polyglot_notebook": {
     "kernelName": "csharp"
    }
   },
   "outputs": [
    {
     "name": "stdout",
     "output_type": "stream",
     "text": [
      "You saved ¤7.56 off the regular ¤67.55 price. A discount of 11.19%!\r\n"
     ]
    }
   ],
   "source": [
    "decimal price = 67.55m;\n",
    "decimal salePrice = 59.99m;\n",
    "\n",
    "string yourDiscount = String.Format(\"You saved {0:C2} off the regular {1:C2} price. \", (price - salePrice), price);\n",
    "\n",
    "yourDiscount += $\"A discount of {((price - salePrice)/price):P2}!\"; //inserted\n",
    "Console.WriteLine(yourDiscount);"
   ]
  },
  {
   "cell_type": "markdown",
   "metadata": {},
   "source": [
    "## Exercise - Explore string interpolation\n",
    "Link: https://learn.microsoft.com/en-us/training/modules/csharp-format-strings/3-exercise-string-interpolation\n",
    "\n",
    "### Display the invoice number using string interpolation"
   ]
  },
  {
   "cell_type": "code",
   "execution_count": 7,
   "metadata": {
    "dotnet_interactive": {
     "language": "csharp"
    },
    "polyglot_notebook": {
     "kernelName": "csharp"
    }
   },
   "outputs": [
    {
     "name": "stdout",
     "output_type": "stream",
     "text": [
      "Invoice Number: 1201\r\n"
     ]
    }
   ],
   "source": [
    "int invoiceNumber = 1201;\n",
    "decimal productShares = 25.4568m;\n",
    "decimal subtotal = 2750.00m;\n",
    "decimal taxPercentage = .15825m;\n",
    "decimal total = 3185.19m;\n",
    "\n",
    "Console.WriteLine($\"Invoice Number: {invoiceNumber}\");"
   ]
  },
  {
   "cell_type": "markdown",
   "metadata": {},
   "source": [
    "### Display the product shares with one thousandth of a share (0.001) precision"
   ]
  },
  {
   "cell_type": "code",
   "execution_count": 8,
   "metadata": {
    "dotnet_interactive": {
     "language": "csharp"
    },
    "polyglot_notebook": {
     "kernelName": "csharp"
    }
   },
   "outputs": [
    {
     "name": "stdout",
     "output_type": "stream",
     "text": [
      "   Shares: 25.457 Product\r\n"
     ]
    }
   ],
   "source": [
    "Console.WriteLine($\"   Shares: {productShares:N3} Product\");"
   ]
  },
  {
   "cell_type": "markdown",
   "metadata": {},
   "source": [
    "### Display the subtotal that you charge the customer formatted as currency"
   ]
  },
  {
   "cell_type": "code",
   "execution_count": 9,
   "metadata": {
    "dotnet_interactive": {
     "language": "csharp"
    },
    "polyglot_notebook": {
     "kernelName": "csharp"
    }
   },
   "outputs": [
    {
     "name": "stdout",
     "output_type": "stream",
     "text": [
      "     Sub Total: ¤2,750.00\r\n"
     ]
    }
   ],
   "source": [
    "Console.WriteLine($\"     Sub Total: {subtotal:C}\");"
   ]
  },
  {
   "cell_type": "markdown",
   "metadata": {},
   "source": [
    "### Display the tax charged on the sale formatted as a percentage"
   ]
  },
  {
   "cell_type": "code",
   "execution_count": 10,
   "metadata": {
    "dotnet_interactive": {
     "language": "csharp"
    },
    "polyglot_notebook": {
     "kernelName": "csharp"
    }
   },
   "outputs": [
    {
     "name": "stdout",
     "output_type": "stream",
     "text": [
      "           Tax: 15.83%\r\n"
     ]
    }
   ],
   "source": [
    "Console.WriteLine($\"           Tax: {taxPercentage:P2}\");"
   ]
  },
  {
   "cell_type": "markdown",
   "metadata": {},
   "source": [
    "### Finalize the receipt with the total amount due formatted as currency"
   ]
  },
  {
   "cell_type": "code",
   "execution_count": 11,
   "metadata": {
    "dotnet_interactive": {
     "language": "csharp"
    },
    "polyglot_notebook": {
     "kernelName": "csharp"
    }
   },
   "outputs": [
    {
     "name": "stdout",
     "output_type": "stream",
     "text": [
      "     Total Billed: ¤3,185.19\r\n"
     ]
    }
   ],
   "source": [
    "Console.WriteLine($\"     Total Billed: {total:C}\");"
   ]
  },
  {
   "cell_type": "code",
   "execution_count": 12,
   "metadata": {
    "dotnet_interactive": {
     "language": "csharp"
    },
    "polyglot_notebook": {
     "kernelName": "csharp"
    }
   },
   "outputs": [
    {
     "name": "stdout",
     "output_type": "stream",
     "text": [
      "Invoice Number: 1201\n",
      "   Shares: 25.457 Product\n",
      "     Sub Total: ¤2,750.00\n",
      "           Tax: 15.83%\n",
      "     Total Billed: ¤3,185.19\n"
     ]
    }
   ],
   "source": [
    "int invoiceNumber = 1201;\n",
    "decimal productShares = 25.4568m;\n",
    "decimal subtotal = 2750.00m;\n",
    "decimal taxPercentage = .15825m;\n",
    "decimal total = 3185.19m;\n",
    "\n",
    "Console.WriteLine($\"Invoice Number: {invoiceNumber}\");\n",
    "Console.WriteLine($\"   Shares: {productShares:N3} Product\");\n",
    "Console.WriteLine($\"     Sub Total: {subtotal:C}\");\n",
    "Console.WriteLine($\"           Tax: {taxPercentage:P2}\");\n",
    "Console.WriteLine($\"     Total Billed: {total:C}\");"
   ]
  },
  {
   "cell_type": "markdown",
   "metadata": {},
   "source": [
    "## Exercise - Discover padding and alignment\n",
    "Link: https://learn.microsoft.com/en-us/training/modules/csharp-format-strings/4-exercise-padding-and-alignment"
   ]
  },
  {
   "cell_type": "code",
   "execution_count": 13,
   "metadata": {
    "dotnet_interactive": {
     "language": "csharp"
    },
    "polyglot_notebook": {
     "kernelName": "csharp"
    }
   },
   "outputs": [
    {
     "name": "stdout",
     "output_type": "stream",
     "text": [
      "Hello World!\r\n"
     ]
    }
   ],
   "source": [
    "string first = \"Hello\";\n",
    "string second = \"World\";\n",
    "string result = string.Format(\"{0} {1}!\", first, second);\n",
    "Console.WriteLine(result);"
   ]
  },
  {
   "cell_type": "markdown",
   "metadata": {},
   "source": [
    "### Formatting strings by adding whitespace before or after"
   ]
  },
  {
   "cell_type": "code",
   "execution_count": 14,
   "metadata": {
    "dotnet_interactive": {
     "language": "csharp"
    },
    "polyglot_notebook": {
     "kernelName": "csharp"
    }
   },
   "outputs": [
    {
     "name": "stdout",
     "output_type": "stream",
     "text": [
      "    Pad this\r\n"
     ]
    }
   ],
   "source": [
    "string input = \"Pad this\";\n",
    "Console.WriteLine(input.PadLeft(12));"
   ]
  },
  {
   "cell_type": "code",
   "execution_count": 15,
   "metadata": {
    "dotnet_interactive": {
     "language": "csharp"
    },
    "polyglot_notebook": {
     "kernelName": "csharp"
    }
   },
   "outputs": [
    {
     "name": "stdout",
     "output_type": "stream",
     "text": [
      "Pad this    \r\n"
     ]
    }
   ],
   "source": [
    "string input = \"Pad this\";\n",
    "Console.WriteLine(input.PadRight(12));"
   ]
  },
  {
   "cell_type": "markdown",
   "metadata": {},
   "source": [
    "### What is an overloaded method?"
   ]
  },
  {
   "cell_type": "code",
   "execution_count": 16,
   "metadata": {
    "dotnet_interactive": {
     "language": "csharp"
    },
    "polyglot_notebook": {
     "kernelName": "csharp"
    }
   },
   "outputs": [
    {
     "name": "stdout",
     "output_type": "stream",
     "text": [
      "----Pad this\n",
      "Pad this----\n"
     ]
    }
   ],
   "source": [
    "Console.WriteLine(input.PadLeft(12, '-'));\n",
    "Console.WriteLine(input.PadRight(12, '-'));"
   ]
  },
  {
   "cell_type": "markdown",
   "metadata": {},
   "source": [
    "### Working with padded strings"
   ]
  },
  {
   "cell_type": "code",
   "execution_count": 17,
   "metadata": {
    "dotnet_interactive": {
     "language": "csharp"
    },
    "polyglot_notebook": {
     "kernelName": "csharp"
    }
   },
   "outputs": [
    {
     "name": "stdout",
     "output_type": "stream",
     "text": [
      "769C  \r\n"
     ]
    }
   ],
   "source": [
    "string paymentId = \"769C\";\n",
    "var formattedLine = paymentId.PadRight(6);\n",
    "Console.WriteLine(formattedLine);"
   ]
  },
  {
   "cell_type": "markdown",
   "metadata": {},
   "source": [
    "### Add the payee name to the output"
   ]
  },
  {
   "cell_type": "code",
   "execution_count": 18,
   "metadata": {
    "dotnet_interactive": {
     "language": "csharp"
    },
    "polyglot_notebook": {
     "kernelName": "csharp"
    }
   },
   "outputs": [
    {
     "name": "stdout",
     "output_type": "stream",
     "text": [
      "769C  Mr. Stephen Ortega      \r\n"
     ]
    }
   ],
   "source": [
    "string paymentId = \"769C\";\n",
    "string payeeName = \"Mr. Stephen Ortega\";\n",
    "\n",
    "var formattedLine = paymentId.PadRight(6);\n",
    "formattedLine += payeeName.PadRight(24);\n",
    "//formattedLine = formattedLine + payeeName.PadRight(24);\n",
    "\n",
    "Console.WriteLine(formattedLine);"
   ]
  },
  {
   "cell_type": "markdown",
   "metadata": {},
   "source": [
    "### Add the payment amount to the output"
   ]
  },
  {
   "cell_type": "code",
   "execution_count": 19,
   "metadata": {
    "dotnet_interactive": {
     "language": "csharp"
    },
    "polyglot_notebook": {
     "kernelName": "csharp"
    }
   },
   "outputs": [
    {
     "name": "stdout",
     "output_type": "stream",
     "text": [
      "769C  Mr. Stephen Ortega       $5,000.00\r\n"
     ]
    }
   ],
   "source": [
    "string paymentId = \"769C\";\n",
    "string payeeName = \"Mr. Stephen Ortega\";\n",
    "string paymentAmount = \"$5,000.00\";\n",
    "\n",
    "var formattedLine = paymentId.PadRight(6);\n",
    "formattedLine += payeeName.PadRight(24);\n",
    "formattedLine += paymentAmount.PadLeft(10);\n",
    "\n",
    "Console.WriteLine(formattedLine);"
   ]
  },
  {
   "cell_type": "markdown",
   "metadata": {},
   "source": [
    "### Add a line of numbers above the output to more easily confirm the result"
   ]
  },
  {
   "cell_type": "code",
   "execution_count": 20,
   "metadata": {
    "dotnet_interactive": {
     "language": "csharp"
    },
    "polyglot_notebook": {
     "kernelName": "csharp"
    }
   },
   "outputs": [
    {
     "name": "stdout",
     "output_type": "stream",
     "text": [
      "1234567890123456789012345678901234567890\r\n"
     ]
    }
   ],
   "source": [
    "Console.WriteLine(\"1234567890123456789012345678901234567890\");"
   ]
  },
  {
   "cell_type": "code",
   "execution_count": 21,
   "metadata": {
    "dotnet_interactive": {
     "language": "csharp"
    },
    "polyglot_notebook": {
     "kernelName": "csharp"
    }
   },
   "outputs": [
    {
     "name": "stdout",
     "output_type": "stream",
     "text": [
      "1234567890123456789012345678901234567890\n",
      "769C  Mr. Stephen Ortega       $5,000.00\n"
     ]
    }
   ],
   "source": [
    "string paymentId = \"769C\";\n",
    "string payeeName = \"Mr. Stephen Ortega\";\n",
    "string paymentAmount = \"$5,000.00\";\n",
    "\n",
    "var formattedLine = paymentId.PadRight(6);\n",
    "formattedLine += payeeName.PadRight(24);\n",
    "formattedLine += paymentAmount.PadLeft(10);\n",
    "\n",
    "Console.WriteLine(\"1234567890123456789012345678901234567890\");\n",
    "Console.WriteLine(formattedLine);"
   ]
  },
  {
   "cell_type": "markdown",
   "metadata": {},
   "source": [
    "## Exercise - Complete a challenge to apply string interpolation to a form letter\n",
    "Link: https://learn.microsoft.com/en-us/training/modules/csharp-format-strings/5-challenge\n",
    "\n",
    "**Expected Output**\n",
    "\n",
    "Dear Ms. Barros,\n",
    "As a customer of our Magic Yield offering we are excited to tell you about a new financial product that would dramatically increase your return.\n",
    "\n",
    "Currently, you own 2,975,000.00 shares at a return of 12.75 %.\n",
    "\n",
    "Our new product, Glorious Future offers a return of 13.13 %.  Given your current volume, your potential profit would be ¤63,000,000.00.\n",
    "\n",
    "Here's a quick comparison:\n",
    "\n",
    "Magic Yield         12.75 %   $55,000,000.00      \n",
    "Glorious Future     13.13 %   $63,000,000.00"
   ]
  },
  {
   "cell_type": "code",
   "execution_count": null,
   "metadata": {
    "dotnet_interactive": {
     "language": "csharp"
    },
    "polyglot_notebook": {
     "kernelName": "csharp"
    }
   },
   "outputs": [],
   "source": [
    "string customerName = \"Ms. Barros\";\n",
    "\n",
    "string currentProduct = \"Magic Yield\";\n",
    "int currentShares = 2975000;\n",
    "decimal currentReturn = 0.1275m;\n",
    "decimal currentProfit = 55000000.0m;\n",
    "\n",
    "string newProduct = \"Glorious Future\";\n",
    "decimal newReturn = 0.13125m;\n",
    "decimal newProfit = 63000000.0m;\n",
    "\n",
    "// Your logic here\n",
    "\n",
    "Console.WriteLine(\"Here's a quick comparison:\\n\");\n",
    "\n",
    "string comparisonMessage = \"\";\n",
    "\n",
    "// Your logic here\n",
    "\n",
    "Console.WriteLine(comparisonMessage);"
   ]
  },
  {
   "cell_type": "code",
   "execution_count": null,
   "metadata": {
    "dotnet_interactive": {
     "language": "csharp"
    },
    "polyglot_notebook": {
     "kernelName": "csharp"
    }
   },
   "outputs": [],
   "source": [
    "//Answer \n",
    "string customerName = \"Ms. Barros\";\n",
    "\n",
    "string currentProduct = \"Magic Yield\";\n",
    "int currentShares = 2975000;\n",
    "decimal currentReturn = 0.1275m;\n",
    "decimal currentProfit = 55000000.0m;\n",
    "\n",
    "string newProduct = \"Glorious Future\";\n",
    "decimal newReturn = 0.13125m;\n",
    "decimal newProfit = 63000000.0m;\n",
    "\n",
    "Console.WriteLine($\"Dear {customerName},\");\n",
    "Console.WriteLine($\"As a customer of our {currentProduct} offering we are excited to tell you about a new financial product that would dramatically increase your return.\\n\");\n",
    "Console.WriteLine($\"Currently, you own {currentShares:N} shares at a return of {currentReturn:P}.\\n\");\n",
    "Console.WriteLine($\"Our new product, {newProduct} offers a return of {newReturn:P}.  Given your current volume, your potential profit would be {newProfit:C}.\\n\");\n",
    "\n",
    "Console.WriteLine(\"Here's a quick comparison:\\n\");\n",
    "\n",
    "string comparisonMessage = \"\";\n",
    "\n",
    "comparisonMessage = currentProduct.PadRight(20);\n",
    "comparisonMessage += String.Format(\"{0:P}\", currentReturn).PadRight(10);\n",
    "comparisonMessage += String.Format(\"{0:C}\", currentProfit).PadRight(20);\n",
    "\n",
    "comparisonMessage += \"\\n\";\n",
    "comparisonMessage += newProduct.PadRight(20);\n",
    "comparisonMessage += String.Format(\"{0:P}\", newReturn).PadRight(10);\n",
    "comparisonMessage += String.Format(\"{0:C}\", newProfit).PadRight(20);\n",
    "\n",
    "Console.WriteLine(comparisonMessage);"
   ]
  }
 ],
 "metadata": {
  "kernelspec": {
   "display_name": ".NET (C#)",
   "language": "C#",
   "name": ".net-csharp"
  },
  "language_info": {
   "name": "polyglot-notebook"
  },
  "polyglot_notebook": {
   "kernelInfo": {
    "defaultKernelName": "csharp",
    "items": [
     {
      "aliases": [],
      "languageName": "csharp",
      "name": "csharp"
     }
    ]
   }
  }
 },
 "nbformat": 4,
 "nbformat_minor": 2
}
