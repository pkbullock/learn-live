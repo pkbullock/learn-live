{
 "cells": [
  {
   "cell_type": "markdown",
   "metadata": {},
   "source": [
    "# Convert data types using casting and conversion techniques in C#\n",
    "\n",
    "Found at this location: https://learn.microsoft.com/en-us/training/modules/csharp-convert-cast/\n",
    "\n",
    "**Getting started with C# console app**\n",
    "\n",
    "```dotnetcli\n",
    "dotnet new console\n",
    "```\n",
    "## Exercise - Explore data type casting and conversion\n",
    "### Question: Is it possible that attempting to change the value's data type would throw an exception at run time?"
   ]
  },
  {
   "cell_type": "code",
   "execution_count": null,
   "metadata": {
    "dotnet_interactive": {
     "language": "csharp"
    },
    "polyglot_notebook": {
     "kernelName": "csharp"
    }
   },
   "outputs": [],
   "source": [
    "int first = 2;\n",
    "string second = \"4\";\n",
    "int result = first + second;\n",
    "Console.WriteLine(result);"
   ]
  },
  {
   "cell_type": "code",
   "execution_count": null,
   "metadata": {
    "dotnet_interactive": {
     "language": "csharp"
    },
    "polyglot_notebook": {
     "kernelName": "csharp"
    }
   },
   "outputs": [],
   "source": [
    "int first = 2;\n",
    "string second = \"4\";\n",
    "string result = first + second;\n",
    "Console.WriteLine(result);"
   ]
  },
  {
   "cell_type": "markdown",
   "metadata": {},
   "source": [
    "### Question: Is it possible that attempting to change the value's data type would result in a loss of information?"
   ]
  },
  {
   "cell_type": "code",
   "execution_count": null,
   "metadata": {
    "dotnet_interactive": {
     "language": "csharp"
    },
    "polyglot_notebook": {
     "kernelName": "csharp"
    }
   },
   "outputs": [],
   "source": [
    "int myInt = 3;\n",
    "Console.WriteLine($\"int: {myInt}\");\n",
    "\n",
    "decimal myDecimal = myInt;\n",
    "Console.WriteLine($\"decimal: {myDecimal}\");"
   ]
  },
  {
   "cell_type": "markdown",
   "metadata": {},
   "source": [
    "### Perform a cast"
   ]
  },
  {
   "cell_type": "code",
   "execution_count": null,
   "metadata": {
    "dotnet_interactive": {
     "language": "csharp"
    },
    "polyglot_notebook": {
     "kernelName": "csharp"
    }
   },
   "outputs": [],
   "source": [
    "decimal myDecimal = 3.14m;\n",
    "Console.WriteLine($\"decimal: {myDecimal}\");\n",
    "\n",
    "int myInt = (int)myDecimal;\n",
    "Console.WriteLine($\"int: {myInt}\");"
   ]
  },
  {
   "cell_type": "code",
   "execution_count": null,
   "metadata": {
    "dotnet_interactive": {
     "language": "csharp"
    },
    "polyglot_notebook": {
     "kernelName": "csharp"
    }
   },
   "outputs": [],
   "source": [
    "int myInt = (int)myDecimal;"
   ]
  },
  {
   "cell_type": "markdown",
   "metadata": {},
   "source": [
    "### Determine if your conversion is a \"widening conversion\" or a \"narrowing conversion\""
   ]
  },
  {
   "cell_type": "code",
   "execution_count": null,
   "metadata": {
    "dotnet_interactive": {
     "language": "csharp"
    },
    "polyglot_notebook": {
     "kernelName": "csharp"
    }
   },
   "outputs": [],
   "source": [
    "decimal myDecimal = 1.23456789m;\n",
    "float myFloat = (float)myDecimal;\n",
    "\n",
    "Console.WriteLine($\"Decimal: {myDecimal}\");\n",
    "Console.WriteLine($\"Float  : {myFloat}\");"
   ]
  },
  {
   "cell_type": "markdown",
   "metadata": {},
   "source": [
    "### Use ToString() to convert a number to a string"
   ]
  },
  {
   "cell_type": "code",
   "execution_count": null,
   "metadata": {
    "dotnet_interactive": {
     "language": "csharp"
    },
    "polyglot_notebook": {
     "kernelName": "csharp"
    }
   },
   "outputs": [],
   "source": [
    "int first = 5;\n",
    "int second = 7;\n",
    "string message = first.ToString() + second.ToString();\n",
    "Console.WriteLine(message);"
   ]
  },
  {
   "cell_type": "markdown",
   "metadata": {},
   "source": [
    "### Convert a string to an int using the Parse() helper method"
   ]
  },
  {
   "cell_type": "code",
   "execution_count": null,
   "metadata": {
    "dotnet_interactive": {
     "language": "csharp"
    },
    "polyglot_notebook": {
     "kernelName": "csharp"
    }
   },
   "outputs": [],
   "source": [
    "string first = \"5\";\n",
    "string second = \"7\";\n",
    "int sum = int.Parse(first) + int.Parse(second);\n",
    "Console.WriteLine(sum);"
   ]
  },
  {
   "cell_type": "markdown",
   "metadata": {},
   "source": [
    "### Convert a string to a int using the Convert class"
   ]
  },
  {
   "cell_type": "code",
   "execution_count": null,
   "metadata": {
    "dotnet_interactive": {
     "language": "csharp"
    },
    "polyglot_notebook": {
     "kernelName": "csharp"
    }
   },
   "outputs": [],
   "source": [
    "string value1 = \"5\";\n",
    "string value2 = \"7\";\n",
    "int result = Convert.ToInt32(value1) * Convert.ToInt32(value2);\n",
    "Console.WriteLine(result);"
   ]
  },
  {
   "cell_type": "markdown",
   "metadata": {},
   "source": [
    "### Compare casting and converting a decimal into an int"
   ]
  },
  {
   "cell_type": "code",
   "execution_count": null,
   "metadata": {
    "dotnet_interactive": {
     "language": "csharp"
    },
    "polyglot_notebook": {
     "kernelName": "csharp"
    }
   },
   "outputs": [],
   "source": [
    "int value = (int)1.5m; // casting truncates\n",
    "Console.WriteLine(value);\n",
    "\n",
    "int value2 = Convert.ToInt32(1.5m); // converting rounds up\n",
    "Console.WriteLine(value2);"
   ]
  },
  {
   "cell_type": "markdown",
   "metadata": {},
   "source": [
    "### Casting truncates and converting rounds"
   ]
  },
  {
   "cell_type": "code",
   "execution_count": null,
   "metadata": {
    "dotnet_interactive": {
     "language": "csharp"
    },
    "polyglot_notebook": {
     "kernelName": "csharp"
    }
   },
   "outputs": [],
   "source": [
    "int value = (int)1.99m; // casting truncates\n",
    "Console.WriteLine(value);\n",
    "\n",
    "int value2 = Convert.ToInt32(1.99m); // converting rounds up\n",
    "Console.WriteLine(value2);"
   ]
  },
  {
   "cell_type": "markdown",
   "metadata": {},
   "source": [
    "## Exercise - Examine the TryParse() method\n",
    "Link: https://learn.microsoft.com/en-us/training/modules/csharp-convert-cast/3-exercise-tryparse\n"
   ]
  },
  {
   "cell_type": "code",
   "execution_count": null,
   "metadata": {
    "dotnet_interactive": {
     "language": "csharp"
    },
    "polyglot_notebook": {
     "kernelName": "csharp"
    }
   },
   "outputs": [],
   "source": [
    "string name = \"Bob\";\n",
    "Console.WriteLine(int.Parse(name));"
   ]
  },
  {
   "cell_type": "markdown",
   "metadata": {},
   "source": [
    "## Use TryParse()"
   ]
  },
  {
   "cell_type": "code",
   "execution_count": null,
   "metadata": {
    "dotnet_interactive": {
     "language": "csharp"
    },
    "polyglot_notebook": {
     "kernelName": "csharp"
    }
   },
   "outputs": [],
   "source": [
    "string value = \"102\";\n",
    "int result = 0;\n",
    "if (int.TryParse(value, out result))\n",
    "{\n",
    "    Console.WriteLine($\"Measurement: {result}\");\n",
    "}\n",
    "else\n",
    "{\n",
    "    Console.WriteLine(\"Unable to report the measurement.\");\n",
    "}"
   ]
  },
  {
   "cell_type": "markdown",
   "metadata": {},
   "source": [
    "## Use the parsed int later in code"
   ]
  },
  {
   "cell_type": "code",
   "execution_count": null,
   "metadata": {
    "dotnet_interactive": {
     "language": "csharp"
    },
    "polyglot_notebook": {
     "kernelName": "csharp"
    }
   },
   "outputs": [],
   "source": [
    "string value = \"102\";\n",
    "int result = 0;\n",
    "if (int.TryParse(value, out result))\n",
    "{\n",
    "    Console.WriteLine($\"Measurement: {result}\");\n",
    "}\n",
    "else\n",
    "{\n",
    "    Console.WriteLine(\"Unable to report the measurement.\");\n",
    "}\n",
    "\n",
    "Console.WriteLine($\"Measurement (w/ offset): {50 + result}\");"
   ]
  },
  {
   "cell_type": "markdown",
   "metadata": {},
   "source": [
    "## Modify the string variable to a value that can't be parsed"
   ]
  },
  {
   "cell_type": "code",
   "execution_count": null,
   "metadata": {
    "dotnet_interactive": {
     "language": "csharp"
    },
    "polyglot_notebook": {
     "kernelName": "csharp"
    }
   },
   "outputs": [],
   "source": [
    "string value = \"bad\";\n",
    "int result = 0;\n",
    "if (int.TryParse(value, out result))\n",
    "{\n",
    "    Console.WriteLine($\"Measurement: {result}\");\n",
    "}\n",
    "else\n",
    "{\n",
    "    Console.WriteLine(\"Unable to report the measurement.\");\n",
    "}\n",
    "\n",
    "if (result > 0)\n",
    "    Console.WriteLine($\"Measurement (w/ offset): {50 + result}\");"
   ]
  },
  {
   "cell_type": "markdown",
   "metadata": {},
   "source": [
    "## Exercise - Complete a challenge to combine string array values as strings and as integers"
   ]
  },
  {
   "cell_type": "code",
   "execution_count": null,
   "metadata": {
    "dotnet_interactive": {
     "language": "csharp"
    },
    "polyglot_notebook": {
     "kernelName": "csharp"
    }
   },
   "outputs": [],
   "source": [
    "string[] values = { \"12.3\", \"45\", \"ABC\", \"11\", \"DEF\" };"
   ]
  },
  {
   "cell_type": "code",
   "execution_count": null,
   "metadata": {
    "dotnet_interactive": {
     "language": "csharp"
    },
    "polyglot_notebook": {
     "kernelName": "csharp"
    }
   },
   "outputs": [],
   "source": [
    "// Answer \n",
    "\n",
    "string[] values = { \"12.3\", \"45\", \"ABC\", \"11\", \"DEF\" };\n",
    "\n",
    "decimal total = 0m;\n",
    "string message = \"\";\n",
    "\n",
    "foreach (var value in values)\n",
    "{\n",
    "    decimal number; // stores the TryParse \"out\" value\n",
    "    if (decimal.TryParse(value, out number))\n",
    "    {\n",
    "        total += number;\n",
    "    } else\n",
    "    {\n",
    "        message += value;\n",
    "    }\n",
    "}\n",
    "\n",
    "Console.WriteLine($\"Message: {message}\");\n",
    "Console.WriteLine($\"Total: {total}\");\n"
   ]
  },
  {
   "cell_type": "markdown",
   "metadata": {},
   "source": [
    "## Exercise - Complete a challenge to output math operations as specific number types"
   ]
  },
  {
   "cell_type": "code",
   "execution_count": null,
   "metadata": {
    "dotnet_interactive": {
     "language": "csharp"
    },
    "polyglot_notebook": {
     "kernelName": "csharp"
    }
   },
   "outputs": [],
   "source": [
    "int value1 = 12;\n",
    "decimal value2 = 6.2m;\n",
    "float value3 = 4.3f;\n",
    "\n",
    "// Your code here to set result1\n",
    "// Hint: You need to round the result to nearest integer (don't just truncate)\n",
    "Console.WriteLine($\"Divide value1 by value2, display the result as an int: {result1}\");\n",
    "\n",
    "// Your code here to set result2\n",
    "Console.WriteLine($\"Divide value2 by value3, display the result as a decimal: {result2}\");\n",
    "\n",
    "// Your code here to set result3\n",
    "Console.WriteLine($\"Divide value3 by value1, display the result as a float: {result3}\");"
   ]
  },
  {
   "cell_type": "code",
   "execution_count": null,
   "metadata": {
    "dotnet_interactive": {
     "language": "csharp"
    },
    "polyglot_notebook": {
     "kernelName": "csharp"
    }
   },
   "outputs": [],
   "source": [
    "// Answer\n",
    "int value1 = 12;\n",
    "decimal value2 = 6.2m;\n",
    "float value3 = 4.3f;\n",
    "\n",
    "// The Convert class is best for converting the fractional decimal numbers into whole integer numbers\n",
    "// Convert.ToInt32() rounds up the way you would expect.\n",
    "int result1 = Convert.ToInt32((decimal)value1 / value2);\n",
    "Console.WriteLine($\"Divide value1 by value2, display the result as an int: {result1}\");\n",
    "\n",
    "decimal result2 = value2 / (decimal)value3;\n",
    "Console.WriteLine($\"Divide value2 by value3, display the result as a decimal: {result2}\");\n",
    "\n",
    "float result3 = value3 / value1;\n",
    "Console.WriteLine($\"Divide value3 by value1, display the result as a float: {result3}\");"
   ]
  }
 ],
 "metadata": {
  "kernelspec": {
   "display_name": ".NET (C#)",
   "language": "C#",
   "name": ".net-csharp"
  },
  "language_info": {
   "name": "polyglot-notebook"
  },
  "polyglot_notebook": {
   "kernelInfo": {
    "defaultKernelName": "csharp",
    "items": [
     {
      "aliases": [],
      "languageName": "csharp",
      "name": "csharp"
     }
    ]
   }
  }
 },
 "nbformat": 4,
 "nbformat_minor": 2
}
