{
 "cells": [
  {
   "cell_type": "markdown",
   "metadata": {},
   "source": [
    "# Modify the content of strings using built-in string data type methods in C#\n",
    "\n",
    "Link: https://learn.microsoft.com/en-us/training/modules/csharp-modify-content/\n",
    "\n",
    "**Getting started with C# console app**\n",
    "\n",
    "```dotnetcli\n",
    "dotnet new console\n",
    "```\n",
    "\n",
    "## Exercise - Use the string's IndexOf() and Substring() helper methods\n",
    "\n",
    "### Write code to find parenthesis pairs embedded in a string"
   ]
  },
  {
   "cell_type": "code",
   "execution_count": 1,
   "metadata": {
    "dotnet_interactive": {
     "language": "csharp"
    },
    "polyglot_notebook": {
     "kernelName": "csharp"
    }
   },
   "outputs": [
    {
     "name": "stdout",
     "output_type": "stream",
     "text": [
      "13\n",
      "36\n"
     ]
    }
   ],
   "source": [
    "string message = \"Find what is (inside the parentheses)\";\n",
    "\n",
    "int openingPosition = message.IndexOf('(');\n",
    "int closingPosition = message.IndexOf(')');\n",
    "\n",
    "Console.WriteLine(openingPosition);\n",
    "Console.WriteLine(closingPosition);"
   ]
  },
  {
   "cell_type": "markdown",
   "metadata": {},
   "source": [
    "### Add code to retrieve the value between parenthesis"
   ]
  },
  {
   "cell_type": "code",
   "execution_count": 4,
   "metadata": {
    "dotnet_interactive": {
     "language": "csharp"
    },
    "polyglot_notebook": {
     "kernelName": "csharp"
    }
   },
   "outputs": [
    {
     "name": "stdout",
     "output_type": "stream",
     "text": [
      "(inside the parentheses\r\n"
     ]
    }
   ],
   "source": [
    "string message = \"Find what is (inside the parentheses)\";\n",
    "\n",
    "int openingPosition = message.IndexOf('(');\n",
    "int closingPosition = message.IndexOf(')');\n",
    "\n",
    "// Console.WriteLine(openingPosition);\n",
    "// Console.WriteLine(closingPosition);\n",
    "\n",
    "int length = closingPosition - openingPosition;\n",
    "Console.WriteLine(message.Substring(openingPosition, length));"
   ]
  },
  {
   "cell_type": "markdown",
   "metadata": {},
   "source": [
    "### Modify the starting position of the sub string"
   ]
  },
  {
   "cell_type": "code",
   "execution_count": 3,
   "metadata": {
    "dotnet_interactive": {
     "language": "csharp"
    },
    "polyglot_notebook": {
     "kernelName": "csharp"
    }
   },
   "outputs": [
    {
     "name": "stdout",
     "output_type": "stream",
     "text": [
      "inside the parentheses\r\n"
     ]
    }
   ],
   "source": [
    "string message = \"Find what is (inside the parentheses)\";\n",
    "\n",
    "int openingPosition = message.IndexOf('(');\n",
    "int closingPosition = message.IndexOf(')');\n",
    "\n",
    "openingPosition += 1;\n",
    "\n",
    "int length = closingPosition - openingPosition;\n",
    "Console.WriteLine(message.Substring(openingPosition, length));"
   ]
  },
  {
   "cell_type": "code",
   "execution_count": 5,
   "metadata": {
    "dotnet_interactive": {
     "language": "csharp"
    },
    "polyglot_notebook": {
     "kernelName": "csharp"
    }
   },
   "outputs": [
    {
     "name": "stdout",
     "output_type": "stream",
     "text": [
      "between the tags\r\n"
     ]
    }
   ],
   "source": [
    "string message = \"What is the value <span>between the tags</span>?\";\n",
    "\n",
    "int openingPosition = message.IndexOf(\"<span>\");\n",
    "int closingPosition = message.IndexOf(\"</span>\");\n",
    "\n",
    "openingPosition += 6;\n",
    "int length = closingPosition - openingPosition;\n",
    "Console.WriteLine(message.Substring(openingPosition, length));"
   ]
  },
  {
   "cell_type": "markdown",
   "metadata": {},
   "source": [
    "### Avoid magic values"
   ]
  },
  {
   "cell_type": "code",
   "execution_count": 6,
   "metadata": {
    "dotnet_interactive": {
     "language": "csharp"
    },
    "polyglot_notebook": {
     "kernelName": "csharp"
    }
   },
   "outputs": [
    {
     "name": "stdout",
     "output_type": "stream",
     "text": [
      "between the tags\r\n"
     ]
    }
   ],
   "source": [
    "string message = \"What is the value <span>between the tags</span>?\";\n",
    "\n",
    "const string openSpan = \"<span>\";\n",
    "const string closeSpan = \"</span>\";\n",
    "\n",
    "int openingPosition = message.IndexOf(openSpan);\n",
    "int closingPosition = message.IndexOf(closeSpan);\n",
    "\n",
    "openingPosition += openSpan.Length;\n",
    "int length = closingPosition - openingPosition;\n",
    "Console.WriteLine(message.Substring(openingPosition, length));"
   ]
  },
  {
   "cell_type": "markdown",
   "metadata": {},
   "source": [
    "## Exercise - Use the string's IndexOfAny() and LastIndexOf() helper methods\n",
    "Link: https://learn.microsoft.com/en-us/training/modules/csharp-modify-content/3-exercise-lastindexof-indexofany\n",
    "\n",
    "### Retrieve the last occurrence of a sub string"
   ]
  },
  {
   "cell_type": "code",
   "execution_count": 7,
   "metadata": {
    "dotnet_interactive": {
     "language": "csharp"
    },
    "polyglot_notebook": {
     "kernelName": "csharp"
    }
   },
   "outputs": [
    {
     "name": "stdout",
     "output_type": "stream",
     "text": [
      "set of parentheses\r\n"
     ]
    }
   ],
   "source": [
    "string message = \"(What if) I am (only interested) in the last (set of parentheses)?\";\n",
    "int openingPosition = message.LastIndexOf('(');\n",
    "\n",
    "openingPosition += 1;\n",
    "int closingPosition = message.LastIndexOf(')');\n",
    "int length = closingPosition - openingPosition;\n",
    "Console.WriteLine(message.Substring(openingPosition, length));"
   ]
  },
  {
   "cell_type": "markdown",
   "metadata": {},
   "source": [
    "### Retrieve all instances of substrings inside parentheses"
   ]
  },
  {
   "cell_type": "code",
   "execution_count": 8,
   "metadata": {
    "dotnet_interactive": {
     "language": "csharp"
    },
    "polyglot_notebook": {
     "kernelName": "csharp"
    }
   },
   "outputs": [
    {
     "name": "stdout",
     "output_type": "stream",
     "text": [
      "What if\n",
      "more than\n",
      "set of parentheses\n"
     ]
    }
   ],
   "source": [
    "string message = \"(What if) there are (more than) one (set of parentheses)?\";\n",
    "while (true)\n",
    "{\n",
    "    int openingPosition = message.IndexOf('(');\n",
    "    if (openingPosition == -1) break;\n",
    "\n",
    "    openingPosition += 1;\n",
    "    int closingPosition = message.IndexOf(')');\n",
    "    int length = closingPosition - openingPosition;\n",
    "    Console.WriteLine(message.Substring(openingPosition, length));\n",
    "\n",
    "    // Note the overload of the Substring to return only the remaining \n",
    "    // unprocessed message:\n",
    "    message = message.Substring(closingPosition + 1);\n",
    "}"
   ]
  },
  {
   "cell_type": "markdown",
   "metadata": {},
   "source": [
    "### Work with different types of symbol sets"
   ]
  },
  {
   "cell_type": "code",
   "execution_count": 12,
   "metadata": {
    "dotnet_interactive": {
     "language": "csharp"
    },
    "polyglot_notebook": {
     "kernelName": "csharp"
    }
   },
   "outputs": [
    {
     "name": "stdout",
     "output_type": "stream",
     "text": [
      "Searching THIS Message: Help (find) the {opening symbols}\n",
      "Found WITHOUT using startPosition: (find) the {opening symbols}\n",
      "Found WITH using startPosition: {opening symbols}\n"
     ]
    }
   ],
   "source": [
    "string message = \"Help (find) the {opening symbols}\";\n",
    "Console.WriteLine($\"Searching THIS Message: {message}\");\n",
    "char[] openSymbols = { '[', '{', '(' };\n",
    "int startPosition = 6;\n",
    "int openingPosition = message.IndexOfAny(openSymbols);\n",
    "Console.WriteLine($\"Found WITHOUT using startPosition: {message.Substring(openingPosition)}\");\n",
    "\n",
    "openingPosition = message.IndexOfAny(openSymbols, startPosition);\n",
    "Console.WriteLine($\"Found WITH using startPosition: {message.Substring(openingPosition)}\");"
   ]
  },
  {
   "cell_type": "code",
   "execution_count": 13,
   "metadata": {
    "dotnet_interactive": {
     "language": "csharp"
    },
    "polyglot_notebook": {
     "kernelName": "csharp"
    }
   },
   "outputs": [
    {
     "name": "stdout",
     "output_type": "stream",
     "text": [
      "What if\n",
      "different symbols\n",
      "open symbol\n",
      "matching closing symbol\n"
     ]
    }
   ],
   "source": [
    "string message = \"(What if) I have [different symbols] but every {open symbol} needs a [matching closing symbol]?\";\n",
    "\n",
    "// The IndexOfAny() helper method requires a char array of characters. \n",
    "// You want to look for:\n",
    "\n",
    "char[] openSymbols = { '[', '{', '(' };\n",
    "\n",
    "// You'll use a slightly different technique for iterating through \n",
    "// the characters in the string. This time, use the closing \n",
    "// position of the previous iteration as the starting index for the \n",
    "//next open symbol. So, you need to initialize the closingPosition \n",
    "// variable to zero:\n",
    "\n",
    "int closingPosition = 0;\n",
    "\n",
    "while (true)\n",
    "{\n",
    "    int openingPosition = message.IndexOfAny(openSymbols, closingPosition);\n",
    "\n",
    "    if (openingPosition == -1) break;\n",
    "\n",
    "    string currentSymbol = message.Substring(openingPosition, 1);\n",
    "\n",
    "    // Now  find the matching closing symbol\n",
    "    char matchingSymbol = ' ';\n",
    "\n",
    "    switch (currentSymbol)\n",
    "    {\n",
    "        case \"[\":\n",
    "            matchingSymbol = ']';\n",
    "            break;\n",
    "        case \"{\":\n",
    "            matchingSymbol = '}';\n",
    "            break;\n",
    "        case \"(\":\n",
    "            matchingSymbol = ')';\n",
    "            break;\n",
    "    }\n",
    "\n",
    "    // To find the closingPosition, use an overload of the IndexOf method to specify \n",
    "    // that the search for the matchingSymbol should start at the openingPosition in the string. \n",
    "\n",
    "    openingPosition += 1;\n",
    "    closingPosition = message.IndexOf(matchingSymbol, openingPosition);\n",
    "\n",
    "    // Finally, use the techniques you've already learned to display the sub-string:\n",
    "\n",
    "    int length = closingPosition - openingPosition;\n",
    "    Console.WriteLine(message.Substring(openingPosition, length));\n",
    "}"
   ]
  },
  {
   "cell_type": "markdown",
   "metadata": {},
   "source": [
    "## Exercise - Use the Remove() and Replace() methods\n",
    "Link: https://learn.microsoft.com/en-us/training/modules/csharp-modify-content/4-exercise-remove-replace\n",
    "\n",
    "### Remove characters in specific locations from a string"
   ]
  },
  {
   "cell_type": "code",
   "execution_count": 14,
   "metadata": {
    "dotnet_interactive": {
     "language": "csharp"
    },
    "polyglot_notebook": {
     "kernelName": "csharp"
    }
   },
   "outputs": [
    {
     "name": "stdout",
     "output_type": "stream",
     "text": [
      "123455000  3  \r\n"
     ]
    }
   ],
   "source": [
    "string data = \"12345John Smith          5000  3  \";\n",
    "string updatedData = data.Remove(5, 20);\n",
    "Console.WriteLine(updatedData);"
   ]
  },
  {
   "cell_type": "markdown",
   "metadata": {},
   "source": [
    "### Use the Replace() method"
   ]
  },
  {
   "cell_type": "code",
   "execution_count": 15,
   "metadata": {
    "dotnet_interactive": {
     "language": "csharp"
    },
    "polyglot_notebook": {
     "kernelName": "csharp"
    }
   },
   "outputs": [
    {
     "name": "stdout",
     "output_type": "stream",
     "text": [
      "This is example data\r\n"
     ]
    }
   ],
   "source": [
    "string message = \"This--is--ex-amp-le--da-ta\";\n",
    "message = message.Replace(\"--\", \" \");\n",
    "message = message.Replace(\"-\", \"\");\n",
    "Console.WriteLine(message);"
   ]
  },
  {
   "cell_type": "markdown",
   "metadata": {},
   "source": [
    "## Exercise: Complete a challenge to extract, replace, and remove data from an input string\n",
    "Link: https://learn.microsoft.com/en-us/training/modules/csharp-modify-content/5-exercise-challenge-extract-replace-remove-data\n",
    "\n",
    "### Extract, replace, and remove data from an input string\n",
    "\n",
    "**Desired Output**\n",
    "\n",
    "Quantity: 5000\n",
    "Output: <h2>Widgets &reg;</h2><span>5000</span>"
   ]
  },
  {
   "cell_type": "code",
   "execution_count": null,
   "metadata": {
    "dotnet_interactive": {
     "language": "csharp"
    },
    "polyglot_notebook": {
     "kernelName": "csharp"
    }
   },
   "outputs": [],
   "source": [
    "const string input = \"<div><h2>Widgets &trade;</h2><span>5000</span></div>\";\n",
    "\n",
    "string quantity = \"\";\n",
    "string output = \"\";\n",
    "\n",
    "// Your work here\n",
    "\n",
    "Console.WriteLine(quantity);\n",
    "Console.WriteLine(output);"
   ]
  },
  {
   "cell_type": "code",
   "execution_count": 16,
   "metadata": {
    "dotnet_interactive": {
     "language": "csharp"
    },
    "polyglot_notebook": {
     "kernelName": "csharp"
    }
   },
   "outputs": [
    {
     "name": "stdout",
     "output_type": "stream",
     "text": [
      "Quantity: 5000\n",
      "Output: <h2>Widgets &reg;</h2><span>5000</span>\n"
     ]
    }
   ],
   "source": [
    "//Answer \n",
    "\n",
    "const string input = \"<div><h2>Widgets &trade;</h2><span>5000</span></div>\";\n",
    "\n",
    "string quantity = \"\";\n",
    "string output = \"\";\n",
    "\n",
    "// Your work here\n",
    "\n",
    "// Extract the quantity\n",
    "int quantityStart = input.IndexOf(\"<span>\");\n",
    "int quantityEnd = input.IndexOf(\"</span>\");\n",
    "quantityStart += \"<span>\".Length; // Added length of the tag so index moves to end of the tag\n",
    "int quantityLength = quantityEnd - quantityStart;\n",
    "quantity = input.Substring(quantityStart, quantityLength); //Extracts from end of open tag to beginning of close tag\n",
    "quantity = $\"Quantity: {quantity}\";\n",
    "\n",
    "// Set output to input, replacing the trademark symbol with the registered trademark symbol\n",
    "output = input.Replace(\"&trade;\", \"&reg;\");\n",
    "\n",
    "// Remove the opening <div> tag\n",
    "int divStart = input.IndexOf(\"<div>\");\n",
    "int divLength = \"<div>\".Length;\n",
    "output = output.Remove(divStart, divLength);\n",
    "\n",
    "// Remove the closing <div> tag\n",
    "int divCloseStart = output.IndexOf(\"</div>\");\n",
    "int divCloseLength = \"</div>\".Length;\n",
    "output = output.Remove(divCloseStart, divCloseLength);\n",
    "output = $\"Output: {output}\";\n",
    "\n",
    "Console.WriteLine(quantity);\n",
    "Console.WriteLine(output);"
   ]
  }
 ],
 "metadata": {
  "kernelspec": {
   "display_name": ".NET (C#)",
   "language": "C#",
   "name": ".net-csharp"
  },
  "language_info": {
   "name": "polyglot-notebook"
  },
  "polyglot_notebook": {
   "kernelInfo": {
    "defaultKernelName": "csharp",
    "items": [
     {
      "aliases": [],
      "languageName": "csharp",
      "name": "csharp"
     }
    ]
   }
  }
 },
 "nbformat": 4,
 "nbformat_minor": 2
}
