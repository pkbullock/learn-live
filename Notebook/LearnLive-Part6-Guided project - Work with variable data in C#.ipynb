{
 "cells": [
  {
   "cell_type": "markdown",
   "metadata": {},
   "source": [
    "# Guided project - Work with variable data in C#\n",
    "\n",
    "Link: https://learn.microsoft.com/en-us/training/modules/guided-project-work-variable-data-c-sharp/\n",
    "\n",
    "**Getting started with C# console app**\n",
    "\n",
    "```dotnetcli\n",
    "dotnet new console\n",
    "```\n",
    "Starter Code: In a browser, navigate to [Guided-project-Work-with-variable-data-in-CSharp.zip](https://github.com/MicrosoftLearning/Guided-project-Work-with-variable-data-in-CSharp/archive/refs/heads/main.zip) to download the zip file.\n",
    "\n",
    "Follow the exercises in the learning module:\n",
    "\n",
    "- [Exercise - Review starter code](https://learn.microsoft.com/en-us/training/modules/guided-project-work-variable-data-c-sharp/3-exercise-review-starter-code)\n",
    "- [Exercise - Add suggestedDonation data](https://learn.microsoft.com/en-us/training/modules/guided-project-work-variable-data-c-sharp/4-exercise-add-suggested-donation-data)\n",
    "- [Exercise - Add dog search](https://learn.microsoft.com/en-us/training/modules/guided-project-work-variable-data-c-sharp/5-exercise-add-search)"
   ]
  }
 ],
 "metadata": {
  "kernelspec": {
   "display_name": ".NET (C#)",
   "language": "C#",
   "name": ".net-csharp"
  },
  "language_info": {
   "name": "polyglot-notebook"
  },
  "polyglot_notebook": {
   "kernelInfo": {
    "defaultKernelName": "csharp",
    "items": [
     {
      "aliases": [],
      "languageName": "csharp",
      "name": "csharp"
     }
    ]
   }
  }
 },
 "nbformat": 4,
 "nbformat_minor": 2
}
